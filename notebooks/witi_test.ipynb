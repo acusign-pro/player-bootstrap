{
 "cells": [
  {
   "cell_type": "code",
   "execution_count": 2,
   "metadata": {},
   "outputs": [],
   "source": [
    "import subprocess\n",
    "import platform\n",
    "import re\n",
    "import shutil"
   ]
  },
  {
   "cell_type": "code",
   "execution_count": 3,
   "metadata": {},
   "outputs": [],
   "source": [
    "def get_available_wifi_networks():\n",
    "    \"\"\"\n",
    "    Scan for available WiFi networks on Linux, Windows, and macOS.\n",
    "    Returns a list of unique SSIDs.\n",
    "    \"\"\"\n",
    "    networks = []\n",
    "    system = platform.system()\n",
    "    print(f\"Scanning for WiFi networks on {system}...\")\n",
    "    try:\n",
    "        if system == \"Linux\":\n",
    "            # Use iwlist on Linux (this may require sudo privileges).\n",
    "            result = subprocess.run(\n",
    "                [\"sudo\", \"iwlist\", \"wlan0\", \"scan\"],\n",
    "                stdout=subprocess.PIPE,\n",
    "                stderr=subprocess.PIPE,\n",
    "                text=True\n",
    "            )\n",
    "            for line in result.stdout.splitlines():\n",
    "                line = line.strip()\n",
    "                if line.startswith(\"ESSID:\"):\n",
    "                    ssid = line.split(\"ESSID:\")[1].strip().strip('\"')\n",
    "                    if ssid and ssid not in networks:\n",
    "                        networks.append(ssid)\n",
    "\n",
    "        elif system == \"Windows\":\n",
    "            # Use netsh command on Windows.\n",
    "            result = subprocess.run(\n",
    "                [\"netsh\", \"wlan\", \"show\", \"networks\", \"mode=bssid\"],\n",
    "                stdout=subprocess.PIPE,\n",
    "                stderr=subprocess.PIPE,\n",
    "                text=True,\n",
    "                shell=True\n",
    "            )\n",
    "            for line in result.stdout.splitlines():\n",
    "                line = line.strip()\n",
    "                # Windows output typically has lines like \"SSID 1 : NetworkName\"\n",
    "                if line.startswith(\"SSID \") and \":\" in line:\n",
    "                    parts = line.split(\":\", 1)\n",
    "                    ssid = parts[1].strip()\n",
    "                    if ssid and ssid not in networks:\n",
    "                        networks.append(ssid)\n",
    "\n",
    "        elif system == \"Darwin\":  # macOS\n",
    "            # First, try wdutil if available (airport is deprecated).\n",
    "            wdutil_path = shutil.which(\"wdutil\")\n",
    "            print(f\"wdutil_path: {wdutil_path}\")\n",
    "            if wdutil_path:\n",
    "                result = subprocess.run(\n",
    "                    [wdutil_path, \"scan\"],\n",
    "                    stdout=subprocess.PIPE,\n",
    "                    stderr=subprocess.PIPE,\n",
    "                    text=True\n",
    "                )\n",
    "                print(f\"result: {result}\")\n",
    "                # Assume output lines contain \"SSID:\"; parse accordingly.\n",
    "                for line in result.stdout.splitlines():\n",
    "                    line = line.strip()\n",
    "                    if \"SSID:\" in line:\n",
    "                        parts = line.split(\"SSID:\")\n",
    "                        if len(parts) > 1:\n",
    "                            ssid = parts[1].strip()\n",
    "                            if ssid and ssid not in networks:\n",
    "                                networks.append(ssid)\n",
    "            else:\n",
    "                # Fallback to the deprecated airport command.\n",
    "                airport_path = \"/System/Library/PrivateFrameworks/Apple80211.framework/Versions/Current/Resources/airport\"\n",
    "                result = subprocess.run(\n",
    "                    [airport_path, \"-s\"],\n",
    "                    stdout=subprocess.PIPE,\n",
    "                    stderr=subprocess.PIPE,\n",
    "                    text=True\n",
    "                )\n",
    "                lines = result.stdout.splitlines()\n",
    "                for line in lines:\n",
    "                    # Skip any warning lines.\n",
    "                    if line.startswith(\"WARNING\"):\n",
    "                        continue\n",
    "                    line = line.strip()\n",
    "                    if line:\n",
    "                        # Split by multiple spaces to isolate the SSID (first column).\n",
    "                        parts = re.split(r'\\s{2,}', line)\n",
    "                        if parts:\n",
    "                            ssid = parts[0].strip()\n",
    "                            if ssid and ssid not in networks:\n",
    "                                networks.append(ssid)\n",
    "        else:\n",
    "            print(f\"Unsupported operating system: {system}\")\n",
    "    except Exception as e:\n",
    "        print(f\"Error scanning WiFi networks on {system}: {e}\")\n",
    "\n",
    "    return networks"
   ]
  },
  {
   "cell_type": "code",
   "execution_count": 4,
   "metadata": {},
   "outputs": [
    {
     "name": "stdout",
     "output_type": "stream",
     "text": [
      "Scanning for WiFi networks on Darwin...\n",
      "wdutil_path: /usr/bin/wdutil\n",
      "result: CompletedProcess(args=['/usr/bin/wdutil', 'scan'], returncode=0, stdout='usage: sudo wdutil diagnose [-q] [-f outputDirectoryPath]\\n            -q may be specified to suppress legal prompt and Finder window\\n       sudo wdutil info\\n       sudo wdutil log [{+|-} {system|wifi}]+\\n       sudo wdutil dump\\n       sudo wdutil clean\\n       sudo wdutil privateMAC={0/1}\\n', stderr='')\n"
     ]
    },
    {
     "data": {
      "text/plain": [
       "[]"
      ]
     },
     "execution_count": 4,
     "metadata": {},
     "output_type": "execute_result"
    }
   ],
   "source": [
    "get_available_wifi_networks()"
   ]
  },
  {
   "cell_type": "code",
   "execution_count": null,
   "metadata": {},
   "outputs": [],
   "source": []
  }
 ],
 "metadata": {
  "kernelspec": {
   "display_name": "Python 3",
   "language": "python",
   "name": "python3"
  },
  "language_info": {
   "codemirror_mode": {
    "name": "ipython",
    "version": 3
   },
   "file_extension": ".py",
   "mimetype": "text/x-python",
   "name": "python",
   "nbconvert_exporter": "python",
   "pygments_lexer": "ipython3",
   "version": "3.12.8"
  }
 },
 "nbformat": 4,
 "nbformat_minor": 2
}
